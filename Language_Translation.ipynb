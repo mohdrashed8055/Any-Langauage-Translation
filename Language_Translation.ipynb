{
 "cells": [
  {
   "cell_type": "code",
   "execution_count": 12,
   "metadata": {},
   "outputs": [],
   "source": [
    "# pip install googletrans\n",
    "\n",
    "# Import library for translator\n",
    "from googletrans import Translator"
   ]
  },
  {
   "cell_type": "code",
   "execution_count": 13,
   "metadata": {},
   "outputs": [],
   "source": [
    "translator = Translator()"
   ]
  },
  {
   "cell_type": "code",
   "execution_count": 14,
   "metadata": {},
   "outputs": [
    {
     "name": "stdout",
     "output_type": "stream",
     "text": [
      "Translated(src=hi, dest=en, text=The co-operative society is taxed at the rates prescribed under Para B of Part I of the First Schedule to the Annual Finance Act., pronunciation=None, extra_data=\"{'translat...\")\n"
     ]
    }
   ],
   "source": [
    "# Hindi\n",
    "print(translator.translate(\"सहकारी समिति पर वार्षिक वित्त अधिनियम की पहली अनुसूची के भाग 1 का पैरा ख के अधीन निर्धारित दरों पर कर लगाया जाता है।\"))"
   ]
  },
  {
   "cell_type": "code",
   "execution_count": 15,
   "metadata": {},
   "outputs": [
    {
     "name": "stdout",
     "output_type": "stream",
     "text": [
      "Translated(src=mr, dest=en, text=In this story you will find an example of how God appears to Kane., pronunciation=None, extra_data=\"{'translat...\")\n"
     ]
    }
   ],
   "source": [
    "# Marathi\n",
    "print(translator.translate(\"देव काेणाला दर्शन देताे याचे उदाहरण या कथेतून आपणास पहायला मिळेल.\"))"
   ]
  },
  {
   "cell_type": "code",
   "execution_count": 16,
   "metadata": {},
   "outputs": [
    {
     "name": "stdout",
     "output_type": "stream",
     "text": [
      "Guten Morgen!\n"
     ]
    }
   ],
   "source": [
    "# pip install translate\n",
    "\n",
    "from translate import Translator\n",
    "translator= Translator(to_lang=\"German\")\n",
    "translation = translator.translate(\"Good Morning!\")\n",
    "print(translation)"
   ]
  },
  {
   "cell_type": "code",
   "execution_count": 17,
   "metadata": {},
   "outputs": [
    {
     "name": "stdout",
     "output_type": "stream",
     "text": [
      "सुप्रभात!\n"
     ]
    }
   ],
   "source": [
    "translator= Translator(to_lang=\"Hindi\")\n",
    "translation = translator.translate(\"Good Morning!\")\n",
    "print(translation)"
   ]
  },
  {
   "cell_type": "code",
   "execution_count": null,
   "metadata": {},
   "outputs": [],
   "source": []
  },
  {
   "cell_type": "code",
   "execution_count": null,
   "metadata": {},
   "outputs": [],
   "source": []
  }
 ],
 "metadata": {
  "kernelspec": {
   "display_name": "Python 3",
   "language": "python",
   "name": "python3"
  },
  "language_info": {
   "codemirror_mode": {
    "name": "ipython",
    "version": 3
   },
   "file_extension": ".py",
   "mimetype": "text/x-python",
   "name": "python",
   "nbconvert_exporter": "python",
   "pygments_lexer": "ipython3",
   "version": "3.7.6"
  }
 },
 "nbformat": 4,
 "nbformat_minor": 4
}
